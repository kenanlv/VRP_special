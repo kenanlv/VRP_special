{
  "cells": [
    {
      "cell_type": "code",
      "execution_count": 51,
      "metadata": {
        "collapsed": true,
        "pycharm": {
          "is_executing": false
        }
      },
      "outputs": [],
      "source": "import matplotlib.pyplot as plt\nimport numpy as np\nimport json"
    },
    {
      "cell_type": "code",
      "execution_count": 67,
      "outputs": [
        {
          "data": {
            "text/plain": "\u003cFigure size 432x288 with 1 Axes\u003e",
            "image/png": "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\u003d\u003d\n"
          },
          "metadata": {
            "needs_background": "light"
          },
          "output_type": "display_data"
        }
      ],
      "source": "problem_name \u003d \"uniform_1_problem\"\nnp.random.seed(10)\nlocations \u003d np.random.uniform(-5,5,(2,12))\nplt.plot(locations[0,0:3], locations[1,0:3], \u0027ro\u0027)\nplt.plot(locations[0,3:12], locations[1,3:12], \u0027kx\u0027)\nplt.plot(0, 0, \u0027bp\u0027)\nplt.xlim(-5,5)\nplt.ylim(-5,5)\nplt.savefig(f\u0027test/{problem_name}.png\u0027, dpi\u003d500)\ndata \u003d {\n    \u0027locations\u0027: np.concatenate((np.zeros((2,1)), locations),axis\u003d1).tolist(),\n    \u0027destination\u0027: 0,\n    \u0027origins\u0027: [1,2,3],\n    \u0027capacities\u0027: [3,3,3]\n}\nwith open(f\u0027test/{problem_name}.json\u0027, \u0027w\u0027) as file:\n    file.write(json.dumps(data))",
      "metadata": {
        "pycharm": {
          "metadata": false,
          "name": "#%%\n",
          "is_executing": false
        }
      }
    },
    {
      "cell_type": "code",
      "execution_count": 74,
      "outputs": [
        {
          "name": "stdout",
          "text": [
            "easy_1_problem\n"
          ],
          "output_type": "stream"
        },
        {
          "data": {
            "text/plain": "\u003cFigure size 432x288 with 1 Axes\u003e",
            "image/png": "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\u003d\u003d\n"
          },
          "metadata": {
            "needs_background": "light"
          },
          "output_type": "display_data"
        }
      ],
      "source": "problem_name \u003d \"easy_1_problem\"\nnp.random.seed(10)\nlocations \u003d np.array([[5,4,3,2]*3, [-1] * 4 + [0] * 4 + [1] * 4]) + np.random.normal(0, 0.001, (2,12))\nplt.plot(locations[0,0:3], locations[1,0:3], \u0027ro\u0027)\nplt.plot(locations[0,3:12], locations[1,3:12], \u0027kx\u0027)\nplt.plot(0, 0, \u0027bp\u0027)\nplt.xlim(-5,5)\nplt.ylim(-5,5)\nplt.savefig(f\u0027test/{problem_name}.png\u0027, dpi\u003d500)\ndata \u003d {\n    \u0027locations\u0027: np.concatenate((np.zeros((2,1)), locations),axis\u003d1).tolist(),\n    \u0027destination\u0027: 0,\n    \u0027origins\u0027: [1,2,3],\n    \u0027capacities\u0027: [3,3,3]\n}\nwith open(f\u0027test/{problem_name}.json\u0027, \u0027w\u0027) as file:\n    print(problem_name)\n    file.write(json.dumps(data))",
      "metadata": {
        "pycharm": {
          "metadata": false,
          "name": "#%%\n",
          "is_executing": false
        }
      }
    },
    {
      "cell_type": "code",
      "execution_count": 65,
      "outputs": [
        {
          "data": {
            "text/plain": "[array([[1, 2, 3, 4],\n        [1, 2, 3, 4],\n        [1, 2, 3, 4]]), array([[-1, -1, -1, -1],\n        [ 0,  0,  0,  0],\n        [ 1,  1,  1,  1]])]"
          },
          "metadata": {},
          "output_type": "execute_result",
          "execution_count": 65
        }
      ],
      "source": "locations",
      "metadata": {
        "pycharm": {
          "metadata": false,
          "name": "#%%\n",
          "is_executing": false
        }
      }
    },
    {
      "cell_type": "code",
      "execution_count": null,
      "outputs": [],
      "source": "\n",
      "metadata": {
        "pycharm": {
          "metadata": false,
          "name": "#%%\n"
        }
      }
    }
  ],
  "metadata": {
    "language_info": {
      "codemirror_mode": {
        "name": "ipython",
        "version": 2
      },
      "file_extension": ".py",
      "mimetype": "text/x-python",
      "name": "python",
      "nbconvert_exporter": "python",
      "pygments_lexer": "ipython2",
      "version": "2.7.6"
    },
    "kernelspec": {
      "name": "python3",
      "language": "python",
      "display_name": "Python 3"
    }
  },
  "nbformat": 4,
  "nbformat_minor": 0
}
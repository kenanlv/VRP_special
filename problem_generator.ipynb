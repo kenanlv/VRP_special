{
 "cells": [
  {
   "cell_type": "code",
   "execution_count": 2,
   "metadata": {
    "collapsed": true,
    "pycharm": {
     "is_executing": false
    }
   },
   "outputs": [],
   "source": [
    "import matplotlib.pyplot as plt\n",
    "import numpy as np\n",
    "import json"
   ]
  },
  {
   "cell_type": "code",
   "execution_count": 67,
   "outputs": [
    {
     "data": {
      "text/plain": "<Figure size 432x288 with 1 Axes>",
      "image/png": "[encoded data removed]"
     },
     "metadata": {
      "needs_background": "light"
     },
     "output_type": "display_data"
    }
   ],
   "source": [
    "problem_name = \"uniform_1_problem\"\n",
    "np.random.seed(10)\n",
    "locations = np.random.uniform(-5,5,(2,12))\n",
    "plt.plot(locations[0,0:3], locations[1,0:3], 'ro')\n",
    "plt.plot(locations[0,3:12], locations[1,3:12], 'kx')\n",
    "plt.plot(0, 0, 'bp')\n",
    "plt.xlim(-5,5)\n",
    "plt.ylim(-5,5)\n",
    "plt.savefig(f'test/{problem_name}.png', dpi=500)\n",
    "data = {\n",
    "    'locations': np.concatenate((np.zeros((2,1)), locations),axis=1).tolist(),\n",
    "    'destination': 0,\n",
    "    'origins': [1,2,3],\n",
    "    'capacities': [3,3,3]\n",
    "}\n",
    "with open(f'test/{problem_name}.json', 'w') as file:\n",
    "    file.write(json.dumps(data))"
   ],
   "metadata": {
    "pycharm": {
     "metadata": false,
     "name": "#%%\n",
     "is_executing": false
    }
   }
  },
  {
   "cell_type": "code",
   "execution_count": null,
   "outputs": [],
   "source": [
    "problem_name = \"easy_1_problem\"\n",
    "np.random.seed(10)\n",
    "locations = np.array([[5,4,3,2]*3, [-1] * 4 + [0] * 4 + [1] * 4]) + np.random.normal(0, 0.001, (2,12))\n",
    "plt.plot(locations[0,0:3], locations[1,0:3], 'ro')\n",
    "plt.plot(locations[0,3:12], locations[1,3:12], 'kx')\n",
    "plt.plot(0, 0, 'bp')\n",
    "plt.xlim(-5,5)\n",
    "plt.ylim(-5,5)\n",
    "plt.savefig(f'test/{problem_name}.png', dpi=500)\n",
    "data = {\n",
    "    'locations': np.concatenate((np.zeros((2,1)), locations),axis=1).tolist(),\n",
    "    'destination': 0,\n",
    "    'origins': [1,2,3],\n",
    "    'capacities': [3,3,3]\n",
    "}\n",
    "with open(f'test/{problem_name}.json', 'w') as file:\n",
    "    file.write(json.dumps(data))"
   ],
   "metadata": {
    "collapsed": false,
    "pycharm": {
     "name": "#%%\n"
    }
   }
  },
  {
   "cell_type": "code",
   "execution_count": 6,
   "outputs": [
    {
     "data": {
      "text/plain": "<Figure size 432x288 with 1 Axes>",
      "image/png": "[encoded data removed]"
     },
     "metadata": {
      "needs_background": "light"
     },
     "output_type": "display_data"
    }
   ],
   "source": [
    "problem_name = \"easy_2_problem\"\n",
    "np.random.seed(10)\n",
    "locations = np.array([[5,4,3,2]*3, [-1] * 4 + [0] * 4 + [1] * 4]) + np.random.normal(0, 0.001, (2,12))\n",
    "plt.plot(locations[0,0:3], locations[1,0:3], 'ro')\n",
    "plt.plot(locations[0,3:12], locations[1,3:12], 'kx')\n",
    "plt.plot(0, 0, 'bp')\n",
    "plt.xlim(-5,5)\n",
    "plt.ylim(-5,5)\n",
    "plt.savefig(f'test/{problem_name}.png', dpi=500)\n",
    "data = {\n",
    "    'locations': np.concatenate((np.zeros((2,1)), locations),axis=1).tolist(),\n",
    "    'destination': 0,\n",
    "    'origins': [1,5,9],\n",
    "    'capacities': [3,3,3]\n",
    "}\n",
    "with open(f'test/{problem_name}.json', 'w') as file:\n",
    "    file.write(json.dumps(data))"
   ],
   "metadata": {
    "pycharm": {
     "metadata": false,
     "name": "#%%\n",
     "is_executing": false
    }
   }
  },
  {
   "cell_type": "code",
   "execution_count": 4,
   "outputs": [
    {
     "data": {
      "text/plain": "<Figure size 432x288 with 1 Axes>",
      "image/png": "[encoded data removed]"
     },
     "metadata": {
      "needs_background": "light"
     },
     "output_type": "display_data"
    }
   ],
   "source": [
    "problem_name = \"uniform_2_problem\"\n",
    "np.random.seed(10)\n",
    "locations = np.random.uniform(-5,5,(2,60))\n",
    "plt.plot(locations[0,0:10], locations[1,0:10], 'ro')\n",
    "plt.plot(locations[0,10:60], locations[1,10:60], 'kx')\n",
    "plt.plot(0, 0, 'bp')\n",
    "plt.xlim(-5,5)\n",
    "plt.ylim(-5,5)\n",
    "plt.savefig(f'test/{problem_name}.png', dpi=500)\n",
    "data = {\n",
    "    'locations': np.concatenate((np.zeros((2,1)), locations),axis=1).tolist(),\n",
    "    'destination': 0,\n",
    "    'origins': [1,2,3,4,5,6,7,8,9,10],\n",
    "    'capacities': [5] * 10\n",
    "}\n",
    "with open(f'test/{problem_name}.json', 'w') as file:\n",
    "    file.write(json.dumps(data))"
   ],
   "metadata": {
    "pycharm": {
     "metadata": false,
     "name": "#%%\n",
     "is_executing": false
    }
   }
  },
  {
   "cell_type": "code",
   "execution_count": 7,
   "outputs": [
    {
     "data": {
      "text/plain": "<Figure size 432x288 with 1 Axes>",
      "image/png": "[encoded data removed]"
     },
     "metadata": {
      "needs_background": "light"
     },
     "output_type": "display_data"
    }
   ],
   "source": [
    "problem_name = \"more_driver_1_problem\"\n",
    "np.random.seed(12)\n",
    "locations = np.random.uniform(-5,5,(2,20))\n",
    "plt.plot(locations[0,0:10], locations[1,0:10], 'ro')\n",
    "plt.plot(locations[0,10:20], locations[1,10:20], 'kx')\n",
    "plt.plot(0, 0, 'bp')\n",
    "plt.xlim(-5,5)\n",
    "plt.ylim(-5,5)\n",
    "plt.savefig(f'test/{problem_name}.png', dpi=500)\n",
    "data = {\n",
    "    'locations': np.concatenate((np.zeros((2,1)), locations),axis=1).tolist(),\n",
    "    'destination': 0,\n",
    "    'origins': [1,2,3,4,5,6,7,8,9,10],\n",
    "    'capacities': [5] * 10\n",
    "}\n",
    "with open(f'test/{problem_name}.json', 'w') as file:\n",
    "    file.write(json.dumps(data))\n"
   ],
   "metadata": {
    "collapsed": false,
    "pycharm": {
     "name": "#%%\n",
     "is_executing": false
    }
   }
  },
  {
   "cell_type": "code",
   "execution_count": null,
   "outputs": [],
   "source": [
    "\n"
   ],
   "metadata": {
    "collapsed": false,
    "pycharm": {
     "name": "#%%\n"
    }
   }
  }
 ],
 "metadata": {
  "language_info": {
   "codemirror_mode": {
    "name": "ipython",
    "version": 2
   },
   "file_extension": ".py",
   "mimetype": "text/x-python",
   "name": "python",
   "nbconvert_exporter": "python",
   "pygments_lexer": "ipython2",
   "version": "2.7.6"
  },
  "kernelspec": {
   "name": "python3",
   "language": "python",
   "display_name": "Python 3"
  },
  "pycharm": {
   "stem_cell": {
    "cell_type": "raw",
    "source": [],
    "metadata": {
     "collapsed": false
    }
   }
  }
 },
 "nbformat": 4,
 "nbformat_minor": 0
}
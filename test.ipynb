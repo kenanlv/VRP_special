{
  "cells": [
    {
      "cell_type": "code",
      "execution_count": 21,
      "metadata": {
        "collapsed": true,
        "pycharm": {
          "is_executing": false
        }
      },
      "outputs": [],
      "source": "from src.solver_google import GoogleSolver\nimport json\nimport matplotlib.pyplot as plt\nimport numpy as np"
    },
    {
      "cell_type": "code",
      "execution_count": 22,
      "outputs": [],
      "source": "problems \u003d [\u0027uniform_1_problem\u0027]",
      "metadata": {
        "pycharm": {
          "metadata": false,
          "name": "#%%\n",
          "is_executing": false
        }
      }
    },
    {
      "cell_type": "code",
      "execution_count": 33,
      "outputs": [
        {
          "name": "stdout",
          "text": [
            "Route for vehicle 0:\n 1 Load(0) -\u003e  11 Load(1) -\u003e  5 Load(2) -\u003e  7 Load(3) -\u003e  0 Load(3)\nDistance of the route: 14m\nLoad of the route: 3\n\nRoute for vehicle 1:\n 2 Load(0) -\u003e  9 Load(1) -\u003e  6 Load(2) -\u003e  10 Load(3) -\u003e  0 Load(3)\nDistance of the route: 10m\nLoad of the route: 3\n\nRoute for vehicle 2:\n 3 Load(0) -\u003e  8 Load(1) -\u003e  12 Load(2) -\u003e  4 Load(3) -\u003e  0 Load(3)\nDistance of the route: 6m\nLoad of the route: 3\n\nTotal distance of all routes: 30m\nTotal load of all routes: 9\n"
          ],
          "output_type": "stream"
        },
        {
          "data": {
            "text/plain": "\u003cFigure size 432x288 with 1 Axes\u003e",
            "image/png": "[encoded data removed]"
          },
          "metadata": {
            "needs_background": "light"
          },
          "output_type": "display_data"
        }
      ],
      "source": "for problem in problems:\n    with open(f\"test/{problem}.json\") as file:\n        data \u003d json.loads(file.read())\n    solver \u003d GoogleSolver(data[\"locations\"], data[\"capacities\"], data[\"origins\"])\n    solution \u003d solver.solve()\n    locations \u003d np.array(data[\"locations\"])\n    num_locations \u003d len(locations[0])\n    num_origins \u003d len(data[\"origins\"])\n    plt.plot(locations[0,0:num_origins + 1], locations[1,0:num_origins + 1], \u0027ro\u0027)\n    plt.plot(locations[0,num_origins + 1:num_locations + 1], locations[1,num_origins + 1:num_locations + 1], \u0027kx\u0027)\n    plt.plot(locations[0][0], locations[1][0], \u0027bp\u0027)\n    for path in solution:\n        plt.plot(locations[0, path], locations[1, path])\n    plt.xlim(-5,5)\n    plt.ylim(-5,5)\n",
      "metadata": {
        "pycharm": {
          "metadata": false,
          "name": "#%%\n",
          "is_executing": false
        }
      }
    },
    {
      "cell_type": "code",
      "execution_count": 28,
      "outputs": [
        {
          "data": {
            "text/plain": "array([-4.79248051,  1.33648235])"
          },
          "metadata": {},
          "output_type": "execute_result",
          "execution_count": 28
        }
      ],
      "source": "",
      "metadata": {
        "pycharm": {
          "metadata": false,
          "name": "#%%\n",
          "is_executing": false
        }
      }
    },
    {
      "cell_type": "code",
      "execution_count": 37,
      "outputs": [
        {
          "data": {
            "text/plain": "\u0027GoogleSolver\u0027"
          },
          "metadata": {},
          "output_type": "execute_result",
          "execution_count": 37
        }
      ],
      "source": "GoogleSolver.__name__",
      "metadata": {
        "pycharm": {
          "metadata": false,
          "name": "#%%\n",
          "is_executing": false
        }
      }
    },
    {
      "cell_type": "code",
      "execution_count": null,
      "outputs": [],
      "source": "\n",
      "metadata": {
        "pycharm": {
          "metadata": false,
          "name": "#%%\n"
        }
      }
    }
  ],
  "metadata": {
    "language_info": {
      "codemirror_mode": {
        "name": "ipython",
        "version": 2
      },
      "file_extension": ".py",
      "mimetype": "text/x-python",
      "name": "python",
      "nbconvert_exporter": "python",
      "pygments_lexer": "ipython2",
      "version": "2.7.6"
    },
    "kernelspec": {
      "name": "python3",
      "language": "python",
      "display_name": "Python 3"
    }
  },
  "nbformat": 4,
  "nbformat_minor": 0
}